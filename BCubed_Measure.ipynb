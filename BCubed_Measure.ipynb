{
 "cells": [
  {
   "cell_type": "markdown",
   "metadata": {},
   "source": [
    "# How to evaluate text clustering algorithms with BCubed?"
   ]
  },
  {
   "cell_type": "markdown",
   "metadata": {},
   "source": [
    "The B-cubed method is described in detail in:\n",
    "\n",
    "[1] Bagga, Amit and Breck Baldwin. 1998. Algorithms for scoring coreference chains. In Proceedings of the First International Conference on Language Resources and Evaluation Workshop on Linguistic Coreference.\n",
    "\n",
    "The examples are taken from this paper:\n",
    "\n",
    "[2] Amigó, E., Gonzalo, J., Artiles, J. et al. A comparison of extrinsic clustering evaluation metrics based on formal constraints. Inf Retrieval 12, 461–486 (2009). https://doi.org/10.1007/s10791-008-9066-8\n",
    "\n",
    "In the paper the authors analyzed a wide range of metrics and showed that only BCubed satisfies all formal constraints. However, it is not suitable for overlapping clustering evaluation. "
   ]
  },
  {
   "cell_type": "markdown",
   "metadata": {},
   "source": [
    "## How is BCubed Precision and BCubed Recall calculated?\n",
    "\n",
    "Precision represents how many items in the same cluster belong to its category. \n",
    "The Recall associated to one item represents how many items from its category appear in its cluster. [2]\n",
    "\n",
    "<img src=\"1.jpg\">\n",
    "\n",
    "## How to interpret Precision and Recall in BCubed? \n",
    "\n",
    "High BCubed __Recall__: Most related items are in a cluster\n",
    "\n",
    "High BCubed __Precision__: No noisy items in a cluster [2]"
   ]
  },
  {
   "cell_type": "markdown",
   "metadata": {},
   "source": [
    "## How to easy calculate Precision and Recall?\n",
    "\n",
    "$$Recall (R) = \\frac{\\text{number of correct elements in the cluster}^{2}}{\\text{number of elements in the cluster}}$$\n",
    "\n",
    "$$Precision (P) = \\frac{\\text{number of correct elements in the cluster}^{2}}{\\text{number of these elements in all cluster}}$$\n",
    "\n",
    "$$F(BCubed) = \\frac{2 * P * R}{P + R}$$\n"
   ]
  },
  {
   "cell_type": "markdown",
   "metadata": {},
   "source": [
    "## Let's calculate the following (left clustered) example [2]\n",
    "\n",
    "<img src=\"3.png\" width=\"200\">\n",
    "\n",
    "$$Recall (R) = \\frac{\\frac{4*4}{5} + \\frac{1}{5}+ \\frac{2*2}{6}+ \\frac{3*1}{1}+ \\frac{4*4}{6}}{14} = 0.69$$\n",
    "\n",
    "\n",
    "$$Precision (P) = \\frac{\\frac{4*4}{4} + \\frac{1}{3}+ \\frac{2*2}{3}+ \\frac{3*1}{7}+ \\frac{4*4}{7}}{14} = 0.59 $$\n",
    "\n",
    "$$F(BCubed) = \\frac{2 * 0.69 * 0.59}{0.69 + 0.59} =  = 0.63$$"
   ]
  },
  {
   "cell_type": "code",
   "execution_count": 1,
   "metadata": {},
   "outputs": [
    {
     "name": "stdout",
     "output_type": "stream",
     "text": [
      "Collecting bcubed\n",
      "  Downloading bcubed-1.5-py2.py3-none-any.whl (8.7 kB)\n",
      "Requirement already satisfied: numpy in c:\\programdata\\anaconda3\\envs\\global-environment\\lib\\site-packages (from bcubed) (1.18.0)\n",
      "Installing collected packages: bcubed\n",
      "Successfully installed bcubed-1.5\n",
      "Note: you may need to restart the kernel to use updated packages.\n"
     ]
    }
   ],
   "source": [
    "%pip install bcubed"
   ]
  },
  {
   "cell_type": "code",
   "execution_count": 2,
   "metadata": {},
   "outputs": [],
   "source": [
    "import bcubed\n",
    "\n",
    "\"\"\"\n",
    "   Compute Bcubed Precision, Recall and F-Score \n",
    "   clustering_dict: dictionary representing clustering output\n",
    "   gold_standard_dict: ground-truth dictionary\n",
    "   Format for both dictionaries: {item: set of assigned clusters/real categories}\n",
    "\"\"\"\n",
    "\n",
    "def bcubed_compute(clustering_dict, gold_standard_dict):\n",
    "    precision = bcubed.precision(clustering_dict, gold_standard_dict)\n",
    "    recall = bcubed.recall(clustering_dict, gold_standard_dict)\n",
    "    fscore = bcubed.fscore(precision, recall)\n",
    "    print(\"precision={:.2f}, recall={:.2f}, fscore={:.2f}\".format(precision, recall, fscore))"
   ]
  },
  {
   "cell_type": "code",
   "execution_count": 15,
   "metadata": {},
   "outputs": [
    {
     "name": "stdout",
     "output_type": "stream",
     "text": [
      "precision=0.62, recall=1.00, fscore=0.77\n"
     ]
    }
   ],
   "source": [
    "# example ground-truth data (ldict)\n",
    "ground_truth = {\n",
    "    \"item1\": set([\"black\", \"black\", \"black\"]),\n",
    "    \"item2\": set([\"gray\", \"gray\", \"gray\"]),\n",
    "    \"item3\": set([\"blue\", \"blue\", \"blue\"]),\n",
    "    \"item4\": set([\"dashed\", \"dashed\", \"dashed\"]),\n",
    "}\n",
    "\n",
    "# example clustering (cdict) in page 24, figure 16\n",
    "clustering = {\n",
    "    \"item1\": set([\"black\", \"black\", \"gray\"]),\n",
    "    \"item2\": set([\"black\", \"gray\", \"gray\"]),\n",
    "    \"item3\": set([\"blue\", \"blue\", \"blue\"]),\n",
    "    \"item4\": set([\"dashed\", \"dashed\", \"dashed\"]),\n",
    "}\n",
    "bcubed_compute(clustering, ground_truth)"
   ]
  },
  {
   "cell_type": "code",
   "execution_count": 4,
   "metadata": {},
   "outputs": [
    {
     "name": "stdout",
     "output_type": "stream",
     "text": [
      "precision=1.00, recall=1.00, fscore=1.00\n"
     ]
    }
   ],
   "source": [
    "# example ground-truth data (ldict)\n",
    "ground_truth = {\n",
    "    \"item1\": set([\"gray\", \"black\"]),\n",
    "    \"item2\": set([\"gray\", \"black\"]),\n",
    "    \"item3\": set([\"gray\"]),\n",
    "    \"item4\": set([\"black\"]),\n",
    "    \"item5\": set([\"black\"]),\n",
    "    \"item6\": set([\"dashed\"]),\n",
    "    \"item7\": set([\"dashed\"]),\n",
    "}\n",
    "\n",
    "# example clustering (cdict) in page 24, figure 16\n",
    "clustering = {\n",
    "    \"item1\": set([\"A\", \"B\"]),\n",
    "    \"item2\": set([\"A\", \"B\"]),\n",
    "    \"item3\": set([\"A\"]),\n",
    "    \"item4\": set([\"B\"]),\n",
    "    \"item5\": set([\"B\"]),\n",
    "    \"item6\": set([\"C\"]),\n",
    "    \"item7\": set([\"C\"]),\n",
    "}\n",
    "bcubed_compute(clustering, ground_truth)"
   ]
  },
  {
   "cell_type": "code",
   "execution_count": 5,
   "metadata": {},
   "outputs": [
    {
     "name": "stdout",
     "output_type": "stream",
     "text": [
      "precision=0.86, recall=1.00, fscore=0.93\n"
     ]
    }
   ],
   "source": [
    "# example clustering (cdict) in page 24, figure 17\n",
    "clustering = {\n",
    "    \"item1\": set([\"ADup\", \"A\", \"B\"]),\n",
    "    \"item2\": set([\"ADup\", \"A\", \"B\"]),\n",
    "    \"item3\": set([\"ADup\", \"A\"]),\n",
    "    \"item4\": set([\"B\"]),\n",
    "    \"item5\": set([\"B\"]),\n",
    "    \"item6\": set([\"C\"]),\n",
    "    \"item7\": set([\"C\"]),\n",
    "}\n",
    "bcubed_compute(clustering, ground_truth)"
   ]
  },
  {
   "cell_type": "code",
   "execution_count": 8,
   "metadata": {},
   "outputs": [
    {
     "name": "stdout",
     "output_type": "stream",
     "text": [
      "precision=0.75, recall=1.00, fscore=0.86\n"
     ]
    }
   ],
   "source": [
    "ground_truth = {\n",
    "    \"item1\": set([\"1\", \"2\", \"3\", \"4\", \"5\"]),\n",
    "    \"item2\": set([\"6\", \"7\"]),\n",
    "    \"item3\": set([\"8\", \"9\", \"A\", \"B\", \"C\"]),\n",
    "}\n",
    "\n",
    "clustering = {\n",
    "    \"item1\": set([\"1\", \"2\", \"3\", \"4\", \"5\", \"8\", \"9\", \"A\", \"B\", \"C\"]),\n",
    "    \"item2\": set([\"6\", \"7\"]),\n",
    "}\n",
    "\n",
    "bcubed_compute(clustering, ground_truth)"
   ]
  },
  {
   "cell_type": "markdown",
   "metadata": {},
   "source": [
    "Source:\n",
    "\n",
    "http://e-spacio.uned.es/fez/eserv/bibliuned:DptoLSI-ETSI-MA2VICMR-1090/Documento.pdf\n",
    "\n",
    "http://www.cs.cmu.edu/~yimengz/papers/Coreference_survey.pdf\n",
    "\n",
    "https://www.uni-weimar.de/medien/webis/events/pan-16/pan16-papers-final/pan16-author-identification/sari16-notebook.pdf "
   ]
  },
  {
   "cell_type": "code",
   "execution_count": null,
   "metadata": {},
   "outputs": [],
   "source": []
  }
 ],
 "metadata": {
  "kernelspec": {
   "display_name": "Python 3",
   "language": "python",
   "name": "python3"
  },
  "language_info": {
   "codemirror_mode": {
    "name": "ipython",
    "version": 3
   },
   "file_extension": ".py",
   "mimetype": "text/x-python",
   "name": "python",
   "nbconvert_exporter": "python",
   "pygments_lexer": "ipython3",
   "version": "3.7.1"
  }
 },
 "nbformat": 4,
 "nbformat_minor": 4
}
